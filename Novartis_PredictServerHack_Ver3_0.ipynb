{
  "nbformat": 4,
  "nbformat_minor": 0,
  "metadata": {
    "colab": {
      "name": "Novartis_PredictServerHack_Ver3.0.ipynb",
      "provenance": [],
      "collapsed_sections": []
    },
    "kernelspec": {
      "name": "python3",
      "display_name": "Python 3"
    },
    "accelerator": "GPU"
  },
  "cells": [
    {
      "cell_type": "markdown",
      "metadata": {
        "id": "QSwdBuWiDs3i",
        "colab_type": "text"
      },
      "source": [
        "## Binary Classification Problem with Target values either 0 or 1"
      ]
    },
    {
      "cell_type": "markdown",
      "metadata": {
        "id": "19Os5YUj_Kjq",
        "colab_type": "text"
      },
      "source": [
        "Connect to google drive for dataset reading"
      ]
    },
    {
      "cell_type": "code",
      "metadata": {
        "id": "_VozQ2Kvw2li",
        "colab_type": "code",
        "colab": {
          "base_uri": "https://localhost:8080/",
          "height": 34
        },
        "outputId": "0f3d8af9-bb0a-4bf0-b68e-9a6e2472f333"
      },
      "source": [
        "from google.colab import drive\n",
        "drive.mount('/content/gdrive')"
      ],
      "execution_count": null,
      "outputs": [
        {
          "output_type": "stream",
          "text": [
            "Drive already mounted at /content/gdrive; to attempt to forcibly remount, call drive.mount(\"/content/gdrive\", force_remount=True).\n"
          ],
          "name": "stdout"
        }
      ]
    },
    {
      "cell_type": "code",
      "metadata": {
        "id": "ay8hrGWvkez1",
        "colab_type": "code",
        "colab": {
          "base_uri": "https://localhost:8080/",
          "height": 255
        },
        "outputId": "d6afcb69-26da-4718-89a8-b50c67873dfa"
      },
      "source": [
        "!pip install catboost"
      ],
      "execution_count": null,
      "outputs": [
        {
          "output_type": "stream",
          "text": [
            "Requirement already satisfied: catboost in /usr/local/lib/python3.6/dist-packages (0.23.2)\n",
            "Requirement already satisfied: six in /usr/local/lib/python3.6/dist-packages (from catboost) (1.12.0)\n",
            "Requirement already satisfied: graphviz in /usr/local/lib/python3.6/dist-packages (from catboost) (0.10.1)\n",
            "Requirement already satisfied: plotly in /usr/local/lib/python3.6/dist-packages (from catboost) (4.4.1)\n",
            "Requirement already satisfied: matplotlib in /usr/local/lib/python3.6/dist-packages (from catboost) (3.2.1)\n",
            "Requirement already satisfied: scipy in /usr/local/lib/python3.6/dist-packages (from catboost) (1.4.1)\n",
            "Requirement already satisfied: numpy>=1.16.0 in /usr/local/lib/python3.6/dist-packages (from catboost) (1.18.5)\n",
            "Requirement already satisfied: pandas>=0.24.0 in /usr/local/lib/python3.6/dist-packages (from catboost) (1.0.4)\n",
            "Requirement already satisfied: retrying>=1.3.3 in /usr/local/lib/python3.6/dist-packages (from plotly->catboost) (1.3.3)\n",
            "Requirement already satisfied: python-dateutil>=2.1 in /usr/local/lib/python3.6/dist-packages (from matplotlib->catboost) (2.8.1)\n",
            "Requirement already satisfied: pyparsing!=2.0.4,!=2.1.2,!=2.1.6,>=2.0.1 in /usr/local/lib/python3.6/dist-packages (from matplotlib->catboost) (2.4.7)\n",
            "Requirement already satisfied: kiwisolver>=1.0.1 in /usr/local/lib/python3.6/dist-packages (from matplotlib->catboost) (1.2.0)\n",
            "Requirement already satisfied: cycler>=0.10 in /usr/local/lib/python3.6/dist-packages (from matplotlib->catboost) (0.10.0)\n",
            "Requirement already satisfied: pytz>=2017.2 in /usr/local/lib/python3.6/dist-packages (from pandas>=0.24.0->catboost) (2018.9)\n"
          ],
          "name": "stdout"
        }
      ]
    },
    {
      "cell_type": "markdown",
      "metadata": {
        "id": "D-qUhpyT_P2m",
        "colab_type": "text"
      },
      "source": [
        "Import libraries for importing data, visualization and EDA"
      ]
    },
    {
      "cell_type": "code",
      "metadata": {
        "id": "lBZD-UXbxY9a",
        "colab_type": "code",
        "colab": {}
      },
      "source": [
        "import pandas as pd, numpy as np, time\n",
        "import matplotlib.pyplot as plt\n",
        "import seaborn as sns\n",
        "import os\n",
        "import re\n",
        "import string\n",
        "\n",
        "# to impute the missing values\n",
        "from sklearn.impute import SimpleImputer\n",
        "\n",
        "from scipy import stats\n",
        "from scipy.stats import norm, skew\n",
        "\n",
        "%matplotlib inline\n",
        "sns.set(color_codes=True)\n",
        "\n",
        "from sklearn.model_selection import GridSearchCV \n",
        "from sklearn.preprocessing import StandardScaler\n",
        "\n",
        "from sklearn import tree\n",
        "from sklearn import metrics\n",
        "from sklearn.model_selection import train_test_split\n",
        "from sklearn.tree import DecisionTreeClassifier\n",
        "\n",
        "# Boosting Algorithms :\n",
        "from sklearn.ensemble import RandomForestClassifier\n",
        "from sklearn.ensemble import GradientBoostingClassifier\n",
        "from sklearn.ensemble import AdaBoostClassifier\n",
        "from xgboost  import XGBClassifier\n",
        "from catboost import CatBoostClassifier\n",
        "from lightgbm import LGBMClassifier\n"
      ],
      "execution_count": null,
      "outputs": []
    },
    {
      "cell_type": "code",
      "metadata": {
        "id": "EUpXuwSYPnaz",
        "colab_type": "code",
        "colab": {}
      },
      "source": [
        ""
      ],
      "execution_count": null,
      "outputs": []
    },
    {
      "cell_type": "markdown",
      "metadata": {
        "id": "BLQnxiGt_XNR",
        "colab_type": "text"
      },
      "source": [
        "Set the path path of the data set, which will be referred down the line to access the train/test data.\n",
        "\n",
        "Also same path will use to store the submission file at the ned of the mdoel run"
      ]
    },
    {
      "cell_type": "code",
      "metadata": {
        "id": "zYpY30-Rw-ha",
        "colab_type": "code",
        "colab": {}
      },
      "source": [
        "dataSetPath = '/content/gdrive/My Drive/Colab Notebooks/KaggleDatasets/NovartisDataSet'"
      ],
      "execution_count": null,
      "outputs": []
    },
    {
      "cell_type": "markdown",
      "metadata": {
        "id": "TeM0TYg5_kiI",
        "colab_type": "text"
      },
      "source": [
        "Read train and test data into the dataframe"
      ]
    },
    {
      "cell_type": "code",
      "metadata": {
        "id": "P1IhpYwEw-ee",
        "colab_type": "code",
        "colab": {}
      },
      "source": [
        "dfTrain = pd.read_csv(dataSetPath + '/NovartisMaliciousTrain.csv')\n",
        "dfTest = pd.read_csv(dataSetPath + '/NovartisMaliciousTest.csv')"
      ],
      "execution_count": null,
      "outputs": []
    },
    {
      "cell_type": "markdown",
      "metadata": {
        "id": "5rrjfKHD_6IR",
        "colab_type": "text"
      },
      "source": [
        "In next 4 lines will see the shape and first 5 rows of the train and test data sets"
      ]
    },
    {
      "cell_type": "code",
      "metadata": {
        "id": "IjXbqv_3w-br",
        "colab_type": "code",
        "colab": {
          "base_uri": "https://localhost:8080/",
          "height": 34
        },
        "outputId": "7d9c7be6-9f74-4c57-c9bf-6cf5928ebe01"
      },
      "source": [
        "dfTrain.shape"
      ],
      "execution_count": null,
      "outputs": [
        {
          "output_type": "execute_result",
          "data": {
            "text/plain": [
              "(23856, 18)"
            ]
          },
          "metadata": {
            "tags": []
          },
          "execution_count": 59
        }
      ]
    },
    {
      "cell_type": "code",
      "metadata": {
        "id": "xTdaxJmmw-ZB",
        "colab_type": "code",
        "colab": {
          "base_uri": "https://localhost:8080/",
          "height": 34
        },
        "outputId": "c1b98723-9f98-4b27-a04a-5327f1693c3a"
      },
      "source": [
        "dfTest.shape"
      ],
      "execution_count": null,
      "outputs": [
        {
          "output_type": "execute_result",
          "data": {
            "text/plain": [
              "(15903, 17)"
            ]
          },
          "metadata": {
            "tags": []
          },
          "execution_count": 60
        }
      ]
    },
    {
      "cell_type": "code",
      "metadata": {
        "id": "XErgz9djzUkE",
        "colab_type": "code",
        "colab": {
          "base_uri": "https://localhost:8080/",
          "height": 204
        },
        "outputId": "f907a38b-bb23-403e-9fdf-db36438ee511"
      },
      "source": [
        "dfTrain.head()"
      ],
      "execution_count": null,
      "outputs": [
        {
          "output_type": "execute_result",
          "data": {
            "text/html": [
              "<div>\n",
              "<style scoped>\n",
              "    .dataframe tbody tr th:only-of-type {\n",
              "        vertical-align: middle;\n",
              "    }\n",
              "\n",
              "    .dataframe tbody tr th {\n",
              "        vertical-align: top;\n",
              "    }\n",
              "\n",
              "    .dataframe thead th {\n",
              "        text-align: right;\n",
              "    }\n",
              "</style>\n",
              "<table border=\"1\" class=\"dataframe\">\n",
              "  <thead>\n",
              "    <tr style=\"text-align: right;\">\n",
              "      <th></th>\n",
              "      <th>INCIDENT_ID</th>\n",
              "      <th>DATE</th>\n",
              "      <th>X_1</th>\n",
              "      <th>X_2</th>\n",
              "      <th>X_3</th>\n",
              "      <th>X_4</th>\n",
              "      <th>X_5</th>\n",
              "      <th>X_6</th>\n",
              "      <th>X_7</th>\n",
              "      <th>X_8</th>\n",
              "      <th>X_9</th>\n",
              "      <th>X_10</th>\n",
              "      <th>X_11</th>\n",
              "      <th>X_12</th>\n",
              "      <th>X_13</th>\n",
              "      <th>X_14</th>\n",
              "      <th>X_15</th>\n",
              "      <th>MULTIPLE_OFFENSE</th>\n",
              "    </tr>\n",
              "  </thead>\n",
              "  <tbody>\n",
              "    <tr>\n",
              "      <th>0</th>\n",
              "      <td>CR_102659</td>\n",
              "      <td>04-JUL-04</td>\n",
              "      <td>0</td>\n",
              "      <td>36</td>\n",
              "      <td>34</td>\n",
              "      <td>2</td>\n",
              "      <td>1</td>\n",
              "      <td>5</td>\n",
              "      <td>6</td>\n",
              "      <td>1</td>\n",
              "      <td>6</td>\n",
              "      <td>1</td>\n",
              "      <td>174</td>\n",
              "      <td>1.0</td>\n",
              "      <td>92</td>\n",
              "      <td>29</td>\n",
              "      <td>36</td>\n",
              "      <td>0</td>\n",
              "    </tr>\n",
              "    <tr>\n",
              "      <th>1</th>\n",
              "      <td>CR_189752</td>\n",
              "      <td>18-JUL-17</td>\n",
              "      <td>1</td>\n",
              "      <td>37</td>\n",
              "      <td>37</td>\n",
              "      <td>0</td>\n",
              "      <td>0</td>\n",
              "      <td>11</td>\n",
              "      <td>17</td>\n",
              "      <td>1</td>\n",
              "      <td>6</td>\n",
              "      <td>1</td>\n",
              "      <td>236</td>\n",
              "      <td>1.0</td>\n",
              "      <td>103</td>\n",
              "      <td>142</td>\n",
              "      <td>34</td>\n",
              "      <td>1</td>\n",
              "    </tr>\n",
              "    <tr>\n",
              "      <th>2</th>\n",
              "      <td>CR_184637</td>\n",
              "      <td>15-MAR-17</td>\n",
              "      <td>0</td>\n",
              "      <td>3</td>\n",
              "      <td>2</td>\n",
              "      <td>3</td>\n",
              "      <td>5</td>\n",
              "      <td>1</td>\n",
              "      <td>0</td>\n",
              "      <td>2</td>\n",
              "      <td>3</td>\n",
              "      <td>1</td>\n",
              "      <td>174</td>\n",
              "      <td>1.0</td>\n",
              "      <td>110</td>\n",
              "      <td>93</td>\n",
              "      <td>34</td>\n",
              "      <td>1</td>\n",
              "    </tr>\n",
              "    <tr>\n",
              "      <th>3</th>\n",
              "      <td>CR_139071</td>\n",
              "      <td>13-FEB-09</td>\n",
              "      <td>0</td>\n",
              "      <td>33</td>\n",
              "      <td>32</td>\n",
              "      <td>2</td>\n",
              "      <td>1</td>\n",
              "      <td>7</td>\n",
              "      <td>1</td>\n",
              "      <td>1</td>\n",
              "      <td>6</td>\n",
              "      <td>1</td>\n",
              "      <td>249</td>\n",
              "      <td>1.0</td>\n",
              "      <td>72</td>\n",
              "      <td>29</td>\n",
              "      <td>34</td>\n",
              "      <td>1</td>\n",
              "    </tr>\n",
              "    <tr>\n",
              "      <th>4</th>\n",
              "      <td>CR_109335</td>\n",
              "      <td>13-APR-05</td>\n",
              "      <td>0</td>\n",
              "      <td>33</td>\n",
              "      <td>32</td>\n",
              "      <td>2</td>\n",
              "      <td>1</td>\n",
              "      <td>8</td>\n",
              "      <td>3</td>\n",
              "      <td>0</td>\n",
              "      <td>5</td>\n",
              "      <td>1</td>\n",
              "      <td>174</td>\n",
              "      <td>0.0</td>\n",
              "      <td>112</td>\n",
              "      <td>29</td>\n",
              "      <td>43</td>\n",
              "      <td>1</td>\n",
              "    </tr>\n",
              "  </tbody>\n",
              "</table>\n",
              "</div>"
            ],
            "text/plain": [
              "  INCIDENT_ID       DATE  X_1  X_2  ...  X_13  X_14  X_15  MULTIPLE_OFFENSE\n",
              "0   CR_102659  04-JUL-04    0   36  ...    92    29    36                 0\n",
              "1   CR_189752  18-JUL-17    1   37  ...   103   142    34                 1\n",
              "2   CR_184637  15-MAR-17    0    3  ...   110    93    34                 1\n",
              "3   CR_139071  13-FEB-09    0   33  ...    72    29    34                 1\n",
              "4   CR_109335  13-APR-05    0   33  ...   112    29    43                 1\n",
              "\n",
              "[5 rows x 18 columns]"
            ]
          },
          "metadata": {
            "tags": []
          },
          "execution_count": 61
        }
      ]
    },
    {
      "cell_type": "code",
      "metadata": {
        "id": "zj3PQOeLQxoe",
        "colab_type": "code",
        "colab": {
          "base_uri": "https://localhost:8080/",
          "height": 204
        },
        "outputId": "2a180725-5198-4f2f-9987-5d68c16e2b1b"
      },
      "source": [
        "dfTest.head()"
      ],
      "execution_count": null,
      "outputs": [
        {
          "output_type": "execute_result",
          "data": {
            "text/html": [
              "<div>\n",
              "<style scoped>\n",
              "    .dataframe tbody tr th:only-of-type {\n",
              "        vertical-align: middle;\n",
              "    }\n",
              "\n",
              "    .dataframe tbody tr th {\n",
              "        vertical-align: top;\n",
              "    }\n",
              "\n",
              "    .dataframe thead th {\n",
              "        text-align: right;\n",
              "    }\n",
              "</style>\n",
              "<table border=\"1\" class=\"dataframe\">\n",
              "  <thead>\n",
              "    <tr style=\"text-align: right;\">\n",
              "      <th></th>\n",
              "      <th>INCIDENT_ID</th>\n",
              "      <th>DATE</th>\n",
              "      <th>X_1</th>\n",
              "      <th>X_2</th>\n",
              "      <th>X_3</th>\n",
              "      <th>X_4</th>\n",
              "      <th>X_5</th>\n",
              "      <th>X_6</th>\n",
              "      <th>X_7</th>\n",
              "      <th>X_8</th>\n",
              "      <th>X_9</th>\n",
              "      <th>X_10</th>\n",
              "      <th>X_11</th>\n",
              "      <th>X_12</th>\n",
              "      <th>X_13</th>\n",
              "      <th>X_14</th>\n",
              "      <th>X_15</th>\n",
              "    </tr>\n",
              "  </thead>\n",
              "  <tbody>\n",
              "    <tr>\n",
              "      <th>0</th>\n",
              "      <td>CR_195453</td>\n",
              "      <td>01-FEB-18</td>\n",
              "      <td>0</td>\n",
              "      <td>30</td>\n",
              "      <td>35</td>\n",
              "      <td>7</td>\n",
              "      <td>3</td>\n",
              "      <td>6</td>\n",
              "      <td>4</td>\n",
              "      <td>0</td>\n",
              "      <td>5</td>\n",
              "      <td>1</td>\n",
              "      <td>174</td>\n",
              "      <td>NaN</td>\n",
              "      <td>72</td>\n",
              "      <td>119</td>\n",
              "      <td>23</td>\n",
              "    </tr>\n",
              "    <tr>\n",
              "      <th>1</th>\n",
              "      <td>CR_103520</td>\n",
              "      <td>05-MAR-04</td>\n",
              "      <td>0</td>\n",
              "      <td>44</td>\n",
              "      <td>44</td>\n",
              "      <td>1</td>\n",
              "      <td>3</td>\n",
              "      <td>7</td>\n",
              "      <td>1</td>\n",
              "      <td>4</td>\n",
              "      <td>6</td>\n",
              "      <td>1</td>\n",
              "      <td>316</td>\n",
              "      <td>0.0</td>\n",
              "      <td>12</td>\n",
              "      <td>29</td>\n",
              "      <td>34</td>\n",
              "    </tr>\n",
              "    <tr>\n",
              "      <th>2</th>\n",
              "      <td>CR_196089</td>\n",
              "      <td>27-JAN-18</td>\n",
              "      <td>0</td>\n",
              "      <td>34</td>\n",
              "      <td>33</td>\n",
              "      <td>3</td>\n",
              "      <td>5</td>\n",
              "      <td>2</td>\n",
              "      <td>7</td>\n",
              "      <td>3</td>\n",
              "      <td>0</td>\n",
              "      <td>1</td>\n",
              "      <td>316</td>\n",
              "      <td>1.0</td>\n",
              "      <td>72</td>\n",
              "      <td>0</td>\n",
              "      <td>34</td>\n",
              "    </tr>\n",
              "    <tr>\n",
              "      <th>3</th>\n",
              "      <td>CR_112195</td>\n",
              "      <td>18-AUG-06</td>\n",
              "      <td>7</td>\n",
              "      <td>3</td>\n",
              "      <td>2</td>\n",
              "      <td>3</td>\n",
              "      <td>5</td>\n",
              "      <td>9</td>\n",
              "      <td>8</td>\n",
              "      <td>0</td>\n",
              "      <td>5</td>\n",
              "      <td>1</td>\n",
              "      <td>174</td>\n",
              "      <td>1.0</td>\n",
              "      <td>112</td>\n",
              "      <td>87</td>\n",
              "      <td>34</td>\n",
              "    </tr>\n",
              "    <tr>\n",
              "      <th>4</th>\n",
              "      <td>CR_149832</td>\n",
              "      <td>31-OCT-11</td>\n",
              "      <td>0</td>\n",
              "      <td>7</td>\n",
              "      <td>8</td>\n",
              "      <td>7</td>\n",
              "      <td>3</td>\n",
              "      <td>2</td>\n",
              "      <td>7</td>\n",
              "      <td>1</td>\n",
              "      <td>5</td>\n",
              "      <td>1</td>\n",
              "      <td>174</td>\n",
              "      <td>0.0</td>\n",
              "      <td>112</td>\n",
              "      <td>93</td>\n",
              "      <td>43</td>\n",
              "    </tr>\n",
              "  </tbody>\n",
              "</table>\n",
              "</div>"
            ],
            "text/plain": [
              "  INCIDENT_ID       DATE  X_1  X_2  X_3  ...  X_11  X_12  X_13  X_14  X_15\n",
              "0   CR_195453  01-FEB-18    0   30   35  ...   174   NaN    72   119    23\n",
              "1   CR_103520  05-MAR-04    0   44   44  ...   316   0.0    12    29    34\n",
              "2   CR_196089  27-JAN-18    0   34   33  ...   316   1.0    72     0    34\n",
              "3   CR_112195  18-AUG-06    7    3    2  ...   174   1.0   112    87    34\n",
              "4   CR_149832  31-OCT-11    0    7    8  ...   174   0.0   112    93    43\n",
              "\n",
              "[5 rows x 17 columns]"
            ]
          },
          "metadata": {
            "tags": []
          },
          "execution_count": 62
        }
      ]
    },
    {
      "cell_type": "markdown",
      "metadata": {
        "id": "GMCnCCmcAFg8",
        "colab_type": "text"
      },
      "source": [
        "Info on dataframe will help us know the number of rows, columns and the data types of each column"
      ]
    },
    {
      "cell_type": "code",
      "metadata": {
        "id": "wQUqwaalQ2M1",
        "colab_type": "code",
        "colab": {
          "base_uri": "https://localhost:8080/",
          "height": 442
        },
        "outputId": "7f741699-5db6-4612-ba25-1747bf681e53"
      },
      "source": [
        "dfTrain.info()"
      ],
      "execution_count": null,
      "outputs": [
        {
          "output_type": "stream",
          "text": [
            "<class 'pandas.core.frame.DataFrame'>\n",
            "RangeIndex: 23856 entries, 0 to 23855\n",
            "Data columns (total 18 columns):\n",
            " #   Column            Non-Null Count  Dtype  \n",
            "---  ------            --------------  -----  \n",
            " 0   INCIDENT_ID       23856 non-null  object \n",
            " 1   DATE              23856 non-null  object \n",
            " 2   X_1               23856 non-null  int64  \n",
            " 3   X_2               23856 non-null  int64  \n",
            " 4   X_3               23856 non-null  int64  \n",
            " 5   X_4               23856 non-null  int64  \n",
            " 6   X_5               23856 non-null  int64  \n",
            " 7   X_6               23856 non-null  int64  \n",
            " 8   X_7               23856 non-null  int64  \n",
            " 9   X_8               23856 non-null  int64  \n",
            " 10  X_9               23856 non-null  int64  \n",
            " 11  X_10              23856 non-null  int64  \n",
            " 12  X_11              23856 non-null  int64  \n",
            " 13  X_12              23674 non-null  float64\n",
            " 14  X_13              23856 non-null  int64  \n",
            " 15  X_14              23856 non-null  int64  \n",
            " 16  X_15              23856 non-null  int64  \n",
            " 17  MULTIPLE_OFFENSE  23856 non-null  int64  \n",
            "dtypes: float64(1), int64(15), object(2)\n",
            "memory usage: 3.3+ MB\n"
          ],
          "name": "stdout"
        }
      ]
    },
    {
      "cell_type": "markdown",
      "metadata": {
        "id": "QoHRJ45MBT05",
        "colab_type": "text"
      },
      "source": [
        "Check if any columns is having null values, if yes then we will have to impute them based on different strategies"
      ]
    },
    {
      "cell_type": "code",
      "metadata": {
        "id": "7myB1XynQ2JV",
        "colab_type": "code",
        "colab": {
          "base_uri": "https://localhost:8080/",
          "height": 340
        },
        "outputId": "8dc7aa79-2a9f-4f44-c08e-202c87215439"
      },
      "source": [
        "dfTrain.isnull().any()"
      ],
      "execution_count": null,
      "outputs": [
        {
          "output_type": "execute_result",
          "data": {
            "text/plain": [
              "INCIDENT_ID         False\n",
              "DATE                False\n",
              "X_1                 False\n",
              "X_2                 False\n",
              "X_3                 False\n",
              "X_4                 False\n",
              "X_5                 False\n",
              "X_6                 False\n",
              "X_7                 False\n",
              "X_8                 False\n",
              "X_9                 False\n",
              "X_10                False\n",
              "X_11                False\n",
              "X_12                 True\n",
              "X_13                False\n",
              "X_14                False\n",
              "X_15                False\n",
              "MULTIPLE_OFFENSE    False\n",
              "dtype: bool"
            ]
          },
          "metadata": {
            "tags": []
          },
          "execution_count": 64
        }
      ]
    },
    {
      "cell_type": "markdown",
      "metadata": {
        "id": "fTST-kniBarG",
        "colab_type": "text"
      },
      "source": [
        "We can see that column X_12 has null values, rest all columns seems have all data"
      ]
    },
    {
      "cell_type": "markdown",
      "metadata": {
        "id": "-QQLEsySYuPp",
        "colab_type": "text"
      },
      "source": [
        "Let's first get rid of the NaN values in the column X_12\n",
        "\n",
        "We can see the value 1.0 is highest in count, and also the data is skewed a lot, with max being 90 whereas the median is 1.0\n",
        "So to fill missing values let's use mode() to achieve it"
      ]
    },
    {
      "cell_type": "code",
      "metadata": {
        "id": "0uNLtipGca7L",
        "colab_type": "code",
        "colab": {}
      },
      "source": [
        "# create a copy of datasets\n",
        "\n",
        "dfNonBlankTrain = dfTrain.copy()\n",
        "dfNonBlankTest = dfTest.copy()"
      ],
      "execution_count": null,
      "outputs": []
    },
    {
      "cell_type": "markdown",
      "metadata": {
        "id": "YmReq3XDBiST",
        "colab_type": "text"
      },
      "source": [
        "Based on the data present in the X-12 column high % of data belongs to \"1\"\n",
        "\n",
        "So imputing the missing value with MODE"
      ]
    },
    {
      "cell_type": "code",
      "metadata": {
        "id": "9rHb8t40UwXX",
        "colab_type": "code",
        "colab": {}
      },
      "source": [
        "# X_12 column\n",
        "imputer = SimpleImputer(missing_values=np.nan, strategy='most_frequent')\n",
        "dfNonBlankTrain['X_12'] = imputer.fit_transform(dfNonBlankTrain[['X_12']])\n",
        "dfNonBlankTest['X_12'] = imputer.fit_transform(dfNonBlankTest[['X_12']])"
      ],
      "execution_count": null,
      "outputs": []
    },
    {
      "cell_type": "code",
      "metadata": {
        "id": "5EJGmJ3OUwap",
        "colab_type": "code",
        "colab": {
          "base_uri": "https://localhost:8080/",
          "height": 545
        },
        "outputId": "3b76ad78-2cd9-43c9-d22a-d2bd38c20cf2"
      },
      "source": [
        "dfNonBlankTrain.describe().T"
      ],
      "execution_count": null,
      "outputs": [
        {
          "output_type": "execute_result",
          "data": {
            "text/html": [
              "<div>\n",
              "<style scoped>\n",
              "    .dataframe tbody tr th:only-of-type {\n",
              "        vertical-align: middle;\n",
              "    }\n",
              "\n",
              "    .dataframe tbody tr th {\n",
              "        vertical-align: top;\n",
              "    }\n",
              "\n",
              "    .dataframe thead th {\n",
              "        text-align: right;\n",
              "    }\n",
              "</style>\n",
              "<table border=\"1\" class=\"dataframe\">\n",
              "  <thead>\n",
              "    <tr style=\"text-align: right;\">\n",
              "      <th></th>\n",
              "      <th>count</th>\n",
              "      <th>mean</th>\n",
              "      <th>std</th>\n",
              "      <th>min</th>\n",
              "      <th>25%</th>\n",
              "      <th>50%</th>\n",
              "      <th>75%</th>\n",
              "      <th>max</th>\n",
              "    </tr>\n",
              "  </thead>\n",
              "  <tbody>\n",
              "    <tr>\n",
              "      <th>X_1</th>\n",
              "      <td>23856.0</td>\n",
              "      <td>0.483778</td>\n",
              "      <td>1.439738</td>\n",
              "      <td>0.0</td>\n",
              "      <td>0.0</td>\n",
              "      <td>0.0</td>\n",
              "      <td>0.0</td>\n",
              "      <td>7.0</td>\n",
              "    </tr>\n",
              "    <tr>\n",
              "      <th>X_2</th>\n",
              "      <td>23856.0</td>\n",
              "      <td>24.791206</td>\n",
              "      <td>15.240231</td>\n",
              "      <td>0.0</td>\n",
              "      <td>7.0</td>\n",
              "      <td>24.0</td>\n",
              "      <td>36.0</td>\n",
              "      <td>52.0</td>\n",
              "    </tr>\n",
              "    <tr>\n",
              "      <th>X_3</th>\n",
              "      <td>23856.0</td>\n",
              "      <td>24.637450</td>\n",
              "      <td>15.135093</td>\n",
              "      <td>0.0</td>\n",
              "      <td>8.0</td>\n",
              "      <td>24.0</td>\n",
              "      <td>35.0</td>\n",
              "      <td>52.0</td>\n",
              "    </tr>\n",
              "    <tr>\n",
              "      <th>X_4</th>\n",
              "      <td>23856.0</td>\n",
              "      <td>4.276744</td>\n",
              "      <td>2.944672</td>\n",
              "      <td>0.0</td>\n",
              "      <td>2.0</td>\n",
              "      <td>4.0</td>\n",
              "      <td>6.0</td>\n",
              "      <td>10.0</td>\n",
              "    </tr>\n",
              "    <tr>\n",
              "      <th>X_5</th>\n",
              "      <td>23856.0</td>\n",
              "      <td>2.455609</td>\n",
              "      <td>1.963095</td>\n",
              "      <td>0.0</td>\n",
              "      <td>1.0</td>\n",
              "      <td>3.0</td>\n",
              "      <td>5.0</td>\n",
              "      <td>5.0</td>\n",
              "    </tr>\n",
              "    <tr>\n",
              "      <th>X_6</th>\n",
              "      <td>23856.0</td>\n",
              "      <td>6.154175</td>\n",
              "      <td>4.471756</td>\n",
              "      <td>1.0</td>\n",
              "      <td>3.0</td>\n",
              "      <td>5.0</td>\n",
              "      <td>8.0</td>\n",
              "      <td>19.0</td>\n",
              "    </tr>\n",
              "    <tr>\n",
              "      <th>X_7</th>\n",
              "      <td>23856.0</td>\n",
              "      <td>4.876509</td>\n",
              "      <td>3.881931</td>\n",
              "      <td>0.0</td>\n",
              "      <td>2.0</td>\n",
              "      <td>4.0</td>\n",
              "      <td>7.0</td>\n",
              "      <td>18.0</td>\n",
              "    </tr>\n",
              "    <tr>\n",
              "      <th>X_8</th>\n",
              "      <td>23856.0</td>\n",
              "      <td>0.972460</td>\n",
              "      <td>1.453144</td>\n",
              "      <td>0.0</td>\n",
              "      <td>0.0</td>\n",
              "      <td>1.0</td>\n",
              "      <td>1.0</td>\n",
              "      <td>99.0</td>\n",
              "    </tr>\n",
              "    <tr>\n",
              "      <th>X_9</th>\n",
              "      <td>23856.0</td>\n",
              "      <td>4.924128</td>\n",
              "      <td>1.362625</td>\n",
              "      <td>0.0</td>\n",
              "      <td>5.0</td>\n",
              "      <td>5.0</td>\n",
              "      <td>6.0</td>\n",
              "      <td>6.0</td>\n",
              "    </tr>\n",
              "    <tr>\n",
              "      <th>X_10</th>\n",
              "      <td>23856.0</td>\n",
              "      <td>1.244802</td>\n",
              "      <td>1.119301</td>\n",
              "      <td>1.0</td>\n",
              "      <td>1.0</td>\n",
              "      <td>1.0</td>\n",
              "      <td>1.0</td>\n",
              "      <td>90.0</td>\n",
              "    </tr>\n",
              "    <tr>\n",
              "      <th>X_11</th>\n",
              "      <td>23856.0</td>\n",
              "      <td>206.954519</td>\n",
              "      <td>93.033348</td>\n",
              "      <td>0.0</td>\n",
              "      <td>174.0</td>\n",
              "      <td>249.0</td>\n",
              "      <td>249.0</td>\n",
              "      <td>332.0</td>\n",
              "    </tr>\n",
              "    <tr>\n",
              "      <th>X_12</th>\n",
              "      <td>23856.0</td>\n",
              "      <td>0.974262</td>\n",
              "      <td>1.163264</td>\n",
              "      <td>0.0</td>\n",
              "      <td>1.0</td>\n",
              "      <td>1.0</td>\n",
              "      <td>1.0</td>\n",
              "      <td>90.0</td>\n",
              "    </tr>\n",
              "    <tr>\n",
              "      <th>X_13</th>\n",
              "      <td>23856.0</td>\n",
              "      <td>85.237383</td>\n",
              "      <td>27.597226</td>\n",
              "      <td>0.0</td>\n",
              "      <td>72.0</td>\n",
              "      <td>98.0</td>\n",
              "      <td>103.0</td>\n",
              "      <td>116.0</td>\n",
              "    </tr>\n",
              "    <tr>\n",
              "      <th>X_14</th>\n",
              "      <td>23856.0</td>\n",
              "      <td>72.674296</td>\n",
              "      <td>43.297320</td>\n",
              "      <td>0.0</td>\n",
              "      <td>29.0</td>\n",
              "      <td>62.0</td>\n",
              "      <td>107.0</td>\n",
              "      <td>142.0</td>\n",
              "    </tr>\n",
              "    <tr>\n",
              "      <th>X_15</th>\n",
              "      <td>23856.0</td>\n",
              "      <td>33.464747</td>\n",
              "      <td>8.386834</td>\n",
              "      <td>0.0</td>\n",
              "      <td>34.0</td>\n",
              "      <td>34.0</td>\n",
              "      <td>34.0</td>\n",
              "      <td>50.0</td>\n",
              "    </tr>\n",
              "    <tr>\n",
              "      <th>MULTIPLE_OFFENSE</th>\n",
              "      <td>23856.0</td>\n",
              "      <td>0.955231</td>\n",
              "      <td>0.206800</td>\n",
              "      <td>0.0</td>\n",
              "      <td>1.0</td>\n",
              "      <td>1.0</td>\n",
              "      <td>1.0</td>\n",
              "      <td>1.0</td>\n",
              "    </tr>\n",
              "  </tbody>\n",
              "</table>\n",
              "</div>"
            ],
            "text/plain": [
              "                    count        mean        std  ...    50%    75%    max\n",
              "X_1               23856.0    0.483778   1.439738  ...    0.0    0.0    7.0\n",
              "X_2               23856.0   24.791206  15.240231  ...   24.0   36.0   52.0\n",
              "X_3               23856.0   24.637450  15.135093  ...   24.0   35.0   52.0\n",
              "X_4               23856.0    4.276744   2.944672  ...    4.0    6.0   10.0\n",
              "X_5               23856.0    2.455609   1.963095  ...    3.0    5.0    5.0\n",
              "X_6               23856.0    6.154175   4.471756  ...    5.0    8.0   19.0\n",
              "X_7               23856.0    4.876509   3.881931  ...    4.0    7.0   18.0\n",
              "X_8               23856.0    0.972460   1.453144  ...    1.0    1.0   99.0\n",
              "X_9               23856.0    4.924128   1.362625  ...    5.0    6.0    6.0\n",
              "X_10              23856.0    1.244802   1.119301  ...    1.0    1.0   90.0\n",
              "X_11              23856.0  206.954519  93.033348  ...  249.0  249.0  332.0\n",
              "X_12              23856.0    0.974262   1.163264  ...    1.0    1.0   90.0\n",
              "X_13              23856.0   85.237383  27.597226  ...   98.0  103.0  116.0\n",
              "X_14              23856.0   72.674296  43.297320  ...   62.0  107.0  142.0\n",
              "X_15              23856.0   33.464747   8.386834  ...   34.0   34.0   50.0\n",
              "MULTIPLE_OFFENSE  23856.0    0.955231   0.206800  ...    1.0    1.0    1.0\n",
              "\n",
              "[16 rows x 8 columns]"
            ]
          },
          "metadata": {
            "tags": []
          },
          "execution_count": 67
        }
      ]
    },
    {
      "cell_type": "markdown",
      "metadata": {
        "id": "X4p6hnTwd7Ih",
        "colab_type": "text"
      },
      "source": [
        "The 'Date' Column:\n",
        "\n",
        "Data Cleaning & Feature Engineering:"
      ]
    },
    {
      "cell_type": "code",
      "metadata": {
        "id": "KthfHwvTZ-sJ",
        "colab_type": "code",
        "colab": {}
      },
      "source": [
        "# # check for missing value\n",
        "# dfNonBlankTrain.DATE.isnull().any(), dfNonBlankTest.DATE.isnull().any()"
      ],
      "execution_count": null,
      "outputs": []
    },
    {
      "cell_type": "code",
      "metadata": {
        "id": "Ko59Al8riZNI",
        "colab_type": "code",
        "colab": {}
      },
      "source": [
        "# dfNonBlankTrain['DATE'] = pd.to_datetime(dfNonBlankTrain['DATE'])\n",
        "# dfNonBlankTest['DATE'] = pd.to_datetime(dfNonBlankTest['DATE'])"
      ],
      "execution_count": null,
      "outputs": []
    },
    {
      "cell_type": "code",
      "metadata": {
        "id": "3EvP6_FJZ-oG",
        "colab_type": "code",
        "colab": {}
      },
      "source": [
        "# dfNonBlankTrain['DATE'] = pd.to_datetime(dfNonBlankTrain['DATE'], format='%Y-%m-%d')\n",
        "# dfNonBlankTest['DATE'] = pd.to_datetime(dfNonBlankTest['DATE'], format='%Y-%m-%d')\n"
      ],
      "execution_count": null,
      "outputs": []
    },
    {
      "cell_type": "markdown",
      "metadata": {
        "id": "9C0GWgmliLBx",
        "colab_type": "text"
      },
      "source": [
        "Create separate columns for 'Year', 'Month', 'Day'"
      ]
    },
    {
      "cell_type": "code",
      "metadata": {
        "id": "U1ZcKvy2iKFM",
        "colab_type": "code",
        "colab": {}
      },
      "source": [
        "# dfNonBlankTrain['Year'] = dfNonBlankTrain.DATE.dt.year\n",
        "# dfNonBlankTrain['Year'].sample(3)"
      ],
      "execution_count": null,
      "outputs": []
    },
    {
      "cell_type": "code",
      "metadata": {
        "id": "9ziDi1Tfh_UX",
        "colab_type": "code",
        "colab": {}
      },
      "source": [
        "# dfNonBlankTest['Year'] = dfNonBlankTest.DATE.dt.year\n",
        "# dfNonBlankTest['Year'].sample(3)"
      ],
      "execution_count": null,
      "outputs": []
    },
    {
      "cell_type": "code",
      "metadata": {
        "id": "-c5OeGtzh_QI",
        "colab_type": "code",
        "colab": {}
      },
      "source": [
        "# dfNonBlankTrain['Month'] = dfNonBlankTrain.DATE.dt.month\n",
        "# dfNonBlankTrain['Month'].sample(3)"
      ],
      "execution_count": null,
      "outputs": []
    },
    {
      "cell_type": "code",
      "metadata": {
        "id": "TftguHdth_Og",
        "colab_type": "code",
        "colab": {}
      },
      "source": [
        "# dfNonBlankTest['Month'] = dfNonBlankTest.DATE.dt.month\n",
        "# dfNonBlankTest['Month'].sample(3)"
      ],
      "execution_count": null,
      "outputs": []
    },
    {
      "cell_type": "code",
      "metadata": {
        "id": "dOkaIbMCh_LC",
        "colab_type": "code",
        "colab": {}
      },
      "source": [
        "# dfNonBlankTrain['Day'] = dfNonBlankTrain.DATE.dt.day\n",
        "# dfNonBlankTrain['Day'].sample(3)"
      ],
      "execution_count": null,
      "outputs": []
    },
    {
      "cell_type": "code",
      "metadata": {
        "id": "Xxbwsuksh_In",
        "colab_type": "code",
        "colab": {}
      },
      "source": [
        "# dfNonBlankTest['Day'] = dfNonBlankTest.DATE.dt.day\n",
        "# dfNonBlankTest['Day'].sample(3)"
      ],
      "execution_count": null,
      "outputs": []
    },
    {
      "cell_type": "code",
      "metadata": {
        "id": "6ck5-B-tpRbc",
        "colab_type": "code",
        "colab": {}
      },
      "source": [
        "# dfNonBlankTrain.DATE.dt.dayofweek.head()"
      ],
      "execution_count": null,
      "outputs": []
    },
    {
      "cell_type": "code",
      "metadata": {
        "id": "uxL96ZCJpIdP",
        "colab_type": "code",
        "colab": {}
      },
      "source": [
        "# dfNonBlankTrain['DayOfWeek'] = dfNonBlankTrain.DATE.dt.dayofweek\n",
        "# dfNonBlankTrain['DayOfWeek'].sample(3)"
      ],
      "execution_count": null,
      "outputs": []
    },
    {
      "cell_type": "code",
      "metadata": {
        "id": "KJXCDEGZpIZ2",
        "colab_type": "code",
        "colab": {}
      },
      "source": [
        "# dfNonBlankTest['DayOfWeek'] = dfNonBlankTest.DATE.dt.dayofweek\n",
        "# dfNonBlankTest['DayOfWeek'].sample(3)"
      ],
      "execution_count": null,
      "outputs": []
    },
    {
      "cell_type": "code",
      "metadata": {
        "id": "Q9gMN3GJpjtO",
        "colab_type": "code",
        "colab": {}
      },
      "source": [
        "# dfNonBlankTrain.sample(3)"
      ],
      "execution_count": null,
      "outputs": []
    },
    {
      "cell_type": "code",
      "metadata": {
        "id": "ALkJGLg0pxWb",
        "colab_type": "code",
        "colab": {}
      },
      "source": [
        "# dfNonBlankTest.sample(3)"
      ],
      "execution_count": null,
      "outputs": []
    },
    {
      "cell_type": "code",
      "metadata": {
        "id": "M_ZJNPTQh_Go",
        "colab_type": "code",
        "colab": {}
      },
      "source": [
        "# dfNonBlankTrain.info()"
      ],
      "execution_count": null,
      "outputs": []
    },
    {
      "cell_type": "markdown",
      "metadata": {
        "id": "yvXNWCP_ocYT",
        "colab_type": "text"
      },
      "source": [
        "Let's Check the range of Dates:"
      ]
    },
    {
      "cell_type": "code",
      "metadata": {
        "id": "3Ae9uMibh_DS",
        "colab_type": "code",
        "colab": {}
      },
      "source": [
        "# dfNonBlankTrain.DATE.min(), dfNonBlankTrain.DATE.max()"
      ],
      "execution_count": null,
      "outputs": []
    },
    {
      "cell_type": "markdown",
      "metadata": {
        "id": "qgL7WFsuwrtO",
        "colab_type": "text"
      },
      "source": [
        "Malaciuos Attacks per Year visualization"
      ]
    },
    {
      "cell_type": "code",
      "metadata": {
        "id": "YWkF9AsZh_BJ",
        "colab_type": "code",
        "colab": {}
      },
      "source": [
        "# malaciousYear = dfNonBlankTrain.groupby('Year')['MULTIPLE_OFFENSE'].count()\n",
        "# malaciousYear"
      ],
      "execution_count": null,
      "outputs": []
    },
    {
      "cell_type": "code",
      "metadata": {
        "id": "IJX7oKW4h--q",
        "colab_type": "code",
        "colab": {}
      },
      "source": [
        "# plt.figure(figsize=(20, 10))\n",
        "# ax = malaciousYear.plot(kind='line', xticks=malaciousYear.index.values)\n",
        "# ax.set_ylabel('Count of MULTIPLE_OFFENSE')"
      ],
      "execution_count": null,
      "outputs": []
    },
    {
      "cell_type": "markdown",
      "metadata": {
        "id": "tAeglCGszSNC",
        "colab_type": "text"
      },
      "source": [
        "Malaciuos Attacks per Day Of Week visualization"
      ]
    },
    {
      "cell_type": "code",
      "metadata": {
        "id": "b17g3Z4Zh-8P",
        "colab_type": "code",
        "colab": {}
      },
      "source": [
        "# for y in dfNonBlankTrain.Year.unique():\n",
        "#     dfNonBlankTrain[dfNonBlankTrain['Year'] == y].groupby('DayOfWeek')['MULTIPLE_OFFENSE'].count().sort_values().plot(kind='barh', \n",
        "#                                                                                                               title=f'Count of Malaciuos Attacks per Day ({y})', \n",
        "#                                                                                                               fig=(16,5))\n",
        "#     plt.show()"
      ],
      "execution_count": null,
      "outputs": []
    },
    {
      "cell_type": "markdown",
      "metadata": {
        "id": "q0nkkpaI0fSF",
        "colab_type": "text"
      },
      "source": [
        "Malaciuos Attacks per Month visualization"
      ]
    },
    {
      "cell_type": "code",
      "metadata": {
        "id": "l42HLWOgZ-hM",
        "colab_type": "code",
        "colab": {}
      },
      "source": [
        "# for y in dfNonBlankTrain.Year.unique():\n",
        "#     dfNonBlankTrain[dfNonBlankTrain['Year'] == y].groupby('Month')['MULTIPLE_OFFENSE'].count().sort_values().plot(kind='barh', \n",
        "#                                                                                                           title=f'Count of Malaciuos Attacks per Month ({y})', \n",
        "#                                                                                                           fig=(16,5))\n",
        "#     plt.show()"
      ],
      "execution_count": null,
      "outputs": []
    },
    {
      "cell_type": "code",
      "metadata": {
        "id": "yQlwmnXOZ-dy",
        "colab_type": "code",
        "colab": {}
      },
      "source": [
        ""
      ],
      "execution_count": null,
      "outputs": []
    },
    {
      "cell_type": "code",
      "metadata": {
        "id": "FSaCubvH0nD9",
        "colab_type": "code",
        "colab": {}
      },
      "source": [
        "# for y in dfNonBlankTrain.Year.unique():\n",
        "#     ax = dfNonBlankTrain[dfNonBlankTrain['Year'] == y].groupby('MULTIPLE_OFFENSE')['Year'].count().sort_values().plot(kind='bar', \n",
        "#                                                                                                                       title=f'Count of Malacious Attacks per Hour ({y})', \n",
        "#                                                                                                                       fig=(18,7))\n",
        "#     plt.show()"
      ],
      "execution_count": null,
      "outputs": []
    },
    {
      "cell_type": "markdown",
      "metadata": {
        "id": "fQwlroPl2wgt",
        "colab_type": "text"
      },
      "source": [
        "### About the Target Column"
      ]
    },
    {
      "cell_type": "code",
      "metadata": {
        "id": "4n04LEL60m_d",
        "colab_type": "code",
        "colab": {
          "base_uri": "https://localhost:8080/",
          "height": 85
        },
        "outputId": "a23a7315-514f-462c-8fdf-552c2b5d39fa"
      },
      "source": [
        "# Let us look at the target column which is 'Target' to understand how the data is distributed amongst the various classes\n",
        "dfNonBlankTrain.groupby([\"MULTIPLE_OFFENSE\"])[\"MULTIPLE_OFFENSE\"].count()"
      ],
      "execution_count": null,
      "outputs": [
        {
          "output_type": "execute_result",
          "data": {
            "text/plain": [
              "MULTIPLE_OFFENSE\n",
              "0     1068\n",
              "1    22788\n",
              "Name: MULTIPLE_OFFENSE, dtype: int64"
            ]
          },
          "metadata": {
            "tags": []
          },
          "execution_count": 89
        }
      ]
    },
    {
      "cell_type": "markdown",
      "metadata": {
        "id": "4W63v7lZ3LUA",
        "colab_type": "text"
      },
      "source": [
        "Highly unbalanced data\n",
        "\n",
        "To make it easy to understand if a classifier were to train with this data set trying to achieve the best accuracy possible it would most likely label every transaction as a YES Target"
      ]
    },
    {
      "cell_type": "code",
      "metadata": {
        "id": "6ni3zlKf0m7t",
        "colab_type": "code",
        "colab": {
          "base_uri": "https://localhost:8080/",
          "height": 298
        },
        "outputId": "26b030f8-bbf2-4ffd-bfb2-7de56d33a6a7"
      },
      "source": [
        "# Check Target variables that has 0 value for No Incident Hack and 1 for Incident Hack\n",
        "sns.countplot('MULTIPLE_OFFENSE',data=dfNonBlankTrain,palette=['turquoise','r'])\n",
        "plt.title('Server Hacked Or Not')\n",
        "plt.xlabel(['No Incident Hack', 'Incident Hack'], fontsize=10)\n",
        "plt.show()"
      ],
      "execution_count": null,
      "outputs": [
        {
          "output_type": "display_data",
          "data": {
            "image/png": "[encoded data removed]",
            "text/plain": [
              "<Figure size 432x288 with 1 Axes>"
            ]
          },
          "metadata": {
            "tags": []
          }
        }
      ]
    },
    {
      "cell_type": "code",
      "metadata": {
        "id": "oTN3-dZGEtL2",
        "colab_type": "code",
        "colab": {}
      },
      "source": [
        ""
      ],
      "execution_count": null,
      "outputs": []
    },
    {
      "cell_type": "code",
      "metadata": {
        "id": "NAlheojfx9vR",
        "colab_type": "code",
        "colab": {}
      },
      "source": [
        "trainDf = dfNonBlankTrain.copy()\n",
        "testDf = dfNonBlankTest.copy()"
      ],
      "execution_count": null,
      "outputs": []
    },
    {
      "cell_type": "markdown",
      "metadata": {
        "id": "oJME3KF9kCeX",
        "colab_type": "text"
      },
      "source": [
        "### Let's remove outliers from the dataset based in IQR approach"
      ]
    },
    {
      "cell_type": "code",
      "metadata": {
        "id": "Yh1AFExkpIkK",
        "colab_type": "code",
        "colab": {}
      },
      "source": [
        "def outliers_iqr(data):\n",
        "    quartile_1, quartile_3 = np.percentile(data, [25, 75])\n",
        "    iqr = quartile_3 - quartile_1\n",
        "    lower_bound = quartile_1 - (iqr * 1.5)\n",
        "    upper_bound = quartile_3 + (iqr * 1.5)\n",
        "    return np.where((data > upper_bound) | (data < lower_bound))"
      ],
      "execution_count": null,
      "outputs": []
    },
    {
      "cell_type": "code",
      "metadata": {
        "id": "t05A3TkAnTcm",
        "colab_type": "code",
        "colab": {
          "base_uri": "https://localhost:8080/",
          "height": 340
        },
        "outputId": "e530f293-ced1-402a-f371-489dedc03f6c"
      },
      "source": [
        "Q1 = trainDf.quantile(0.25)\n",
        "Q3 = trainDf.quantile(0.75)\n",
        "IQR = Q3 - Q1\n",
        "print('No. of outliers in all the fields: ',((trainDf < (Q1 - 1.5 * IQR)) | (trainDf > (Q3 + 1.5 * IQR))).sum())"
      ],
      "execution_count": null,
      "outputs": [
        {
          "output_type": "stream",
          "text": [
            "No. of outliers in all the fields:  DATE                   0\n",
            "INCIDENT_ID            0\n",
            "MULTIPLE_OFFENSE    1068\n",
            "X_1                 4820\n",
            "X_10                3658\n",
            "X_11                2692\n",
            "X_12                8000\n",
            "X_13                2078\n",
            "X_14                   0\n",
            "X_15                4909\n",
            "X_2                    0\n",
            "X_3                    0\n",
            "X_4                    0\n",
            "X_5                    0\n",
            "X_6                  894\n",
            "X_7                  574\n",
            "X_8                 1804\n",
            "X_9                 3785\n",
            "dtype: int64\n"
          ],
          "name": "stdout"
        }
      ]
    },
    {
      "cell_type": "code",
      "metadata": {
        "id": "BFVu5n5J8dw8",
        "colab_type": "code",
        "colab": {}
      },
      "source": [
        "trainDf['X_12'] = trainDf['X_12'].astype('int64') \n",
        "testDf['X_12'] = testDf['X_12'].astype('int64') \n",
        "trainDf['MULTIPLE_OFFENSE'] = trainDf['MULTIPLE_OFFENSE'].astype('category') "
      ],
      "execution_count": null,
      "outputs": []
    },
    {
      "cell_type": "code",
      "metadata": {
        "id": "dL_-6WNgmkTn",
        "colab_type": "code",
        "colab": {
          "base_uri": "https://localhost:8080/",
          "height": 34
        },
        "outputId": "42a82723-99a6-41c7-87a3-fac8470b8be1"
      },
      "source": [
        "#Drop Duplicate rows\n",
        "\n",
        "trainDf = trainDf.drop(['INCIDENT_ID', 'DATE'], axis=1)\n",
        "\n",
        "trainDf.drop_duplicates(keep='first', inplace=True)\n",
        "\n",
        "trainDf.shape"
      ],
      "execution_count": null,
      "outputs": [
        {
          "output_type": "execute_result",
          "data": {
            "text/plain": [
              "(18814, 16)"
            ]
          },
          "metadata": {
            "tags": []
          },
          "execution_count": 95
        }
      ]
    },
    {
      "cell_type": "markdown",
      "metadata": {
        "id": "Izc3s8FojQK3",
        "colab_type": "text"
      },
      "source": [
        "Feature Selection "
      ]
    },
    {
      "cell_type": "code",
      "metadata": {
        "id": "Fj-E4Erix9tl",
        "colab_type": "code",
        "colab": {
          "base_uri": "https://localhost:8080/",
          "height": 68
        },
        "outputId": "8714f810-2a8e-448a-ed27-8fc26a551949"
      },
      "source": [
        "trainDf.columns"
      ],
      "execution_count": null,
      "outputs": [
        {
          "output_type": "execute_result",
          "data": {
            "text/plain": [
              "Index(['X_1', 'X_2', 'X_3', 'X_4', 'X_5', 'X_6', 'X_7', 'X_8', 'X_9', 'X_10',\n",
              "       'X_11', 'X_12', 'X_13', 'X_14', 'X_15', 'MULTIPLE_OFFENSE'],\n",
              "      dtype='object')"
            ]
          },
          "metadata": {
            "tags": []
          },
          "execution_count": 96
        }
      ]
    },
    {
      "cell_type": "code",
      "metadata": {
        "id": "CGlkP2Iwk6RS",
        "colab_type": "code",
        "colab": {
          "base_uri": "https://localhost:8080/",
          "height": 68
        },
        "outputId": "a03aec85-cfc7-46b7-f9b0-7784995a21bb"
      },
      "source": [
        "testDf.columns"
      ],
      "execution_count": null,
      "outputs": [
        {
          "output_type": "execute_result",
          "data": {
            "text/plain": [
              "Index(['INCIDENT_ID', 'DATE', 'X_1', 'X_2', 'X_3', 'X_4', 'X_5', 'X_6', 'X_7',\n",
              "       'X_8', 'X_9', 'X_10', 'X_11', 'X_12', 'X_13', 'X_14', 'X_15'],\n",
              "      dtype='object')"
            ]
          },
          "metadata": {
            "tags": []
          },
          "execution_count": 97
        }
      ]
    },
    {
      "cell_type": "code",
      "metadata": {
        "id": "YV3Id5ngnTV0",
        "colab_type": "code",
        "colab": {}
      },
      "source": [
        ""
      ],
      "execution_count": null,
      "outputs": []
    },
    {
      "cell_type": "code",
      "metadata": {
        "id": "aP7EbyEGx9rf",
        "colab_type": "code",
        "colab": {}
      },
      "source": [
        "feature_cols = ['X_1', 'X_2', 'X_3', 'X_4', 'X_5', 'X_6', 'X_7',\n",
        "                'X_8', 'X_9', 'X_10', 'X_11', 'X_12', 'X_13', 'X_14', 'X_15']\n",
        "\n",
        "target_col = 'MULTIPLE_OFFENSE'\n",
        "\n",
        "train_x = trainDf[feature_cols]\n",
        "train_y = trainDf[target_col]\n",
        "\n",
        "test_ids = testDf['INCIDENT_ID']\n",
        "test_x = testDf[feature_cols]"
      ],
      "execution_count": null,
      "outputs": []
    },
    {
      "cell_type": "code",
      "metadata": {
        "id": "eoxjLMInlKO5",
        "colab_type": "code",
        "colab": {
          "base_uri": "https://localhost:8080/",
          "height": 51
        },
        "outputId": "2752c780-8639-491b-9292-66e0542cce7c"
      },
      "source": [
        "# define oversampling strategy\n",
        "from imblearn.over_sampling import RandomOverSampler\n",
        "\n",
        "oversample = RandomOverSampler(sampling_strategy='minority')\n",
        "# fit and apply the transform\n",
        "X_over, y_over = oversample.fit_resample(train_x, train_y)\n",
        "print(train_x.shape, ' ', train_y.shape)\n",
        "print(X_over.shape, ' ', y_over.shape)"
      ],
      "execution_count": null,
      "outputs": [
        {
          "output_type": "stream",
          "text": [
            "(18814, 15)   (18814,)\n",
            "(35672, 15)   (35672,)\n"
          ],
          "name": "stdout"
        }
      ]
    },
    {
      "cell_type": "markdown",
      "metadata": {
        "id": "ZItyEH9eK7nv",
        "colab_type": "text"
      },
      "source": [
        "Split the data into train test"
      ]
    },
    {
      "cell_type": "code",
      "metadata": {
        "id": "kX17tzv1n5xB",
        "colab_type": "code",
        "colab": {}
      },
      "source": [
        "# X_train, X_test, y_train, y_test= train_test_split(train_x, train_y, test_size=0.3, random_state=22, shuffle = True, stratify = train_y)\n",
        "X_train, X_val, y_train, y_val = train_test_split(X_over, y_over, test_size=0.3, random_state=22, shuffle = True, stratify = y_over)"
      ],
      "execution_count": null,
      "outputs": []
    },
    {
      "cell_type": "code",
      "metadata": {
        "id": "s5vFz6MepyGZ",
        "colab_type": "code",
        "colab": {
          "base_uri": "https://localhost:8080/",
          "height": 51
        },
        "outputId": "572edc74-128c-4755-95d9-3f0fe1f1cd28"
      },
      "source": [
        "print(X_train.shape, ' ', y_train.shape)\n",
        "print(X_val.shape,   ' ', y_val.shape)"
      ],
      "execution_count": null,
      "outputs": [
        {
          "output_type": "stream",
          "text": [
            "(24970, 15)   (24970,)\n",
            "(10702, 15)   (10702,)\n"
          ],
          "name": "stdout"
        }
      ]
    },
    {
      "cell_type": "code",
      "metadata": {
        "id": "Tm-Nk68Y-d78",
        "colab_type": "code",
        "colab": {}
      },
      "source": [
        ""
      ],
      "execution_count": null,
      "outputs": []
    },
    {
      "cell_type": "code",
      "metadata": {
        "id": "K8I2cPDzqUFf",
        "colab_type": "code",
        "colab": {}
      },
      "source": [
        "#Use standardscaler to standardize the features\n",
        "\n",
        "sc = StandardScaler()\n",
        "X_train_sc = sc.fit_transform(X_train)\n",
        "X_val_sc   = sc.transform(X_val)"
      ],
      "execution_count": null,
      "outputs": []
    },
    {
      "cell_type": "code",
      "metadata": {
        "id": "pnH7I3m7qUA5",
        "colab_type": "code",
        "colab": {}
      },
      "source": [
        "#Use standardscaler to standardize the features\n",
        "X_test_sc = sc.transform(test_x)"
      ],
      "execution_count": null,
      "outputs": []
    },
    {
      "cell_type": "code",
      "metadata": {
        "id": "Dja79YvD_TPx",
        "colab_type": "code",
        "colab": {
          "base_uri": "https://localhost:8080/",
          "height": 289
        },
        "outputId": "b7f08ac7-d541-451b-fabf-fdebce079e8b"
      },
      "source": [
        "#CATBoost\n",
        "\n",
        "from catboost import CatBoostClassifier\n",
        "cb_clf = CatBoostClassifier(learning_rate=0.1, n_estimators=1000, subsample=0.70, max_depth=5, scale_pos_weight=2.5, silent=True)\n",
        "cb_clf.fit(X_train_sc, y_train)\n",
        "\n",
        "# evaluate predictions\n",
        "y_train_predict_cb = cb_clf.predict(X_train_sc)\n",
        "print('Train Accuracy %.3f' % metrics.accuracy_score(y_train, y_train_predict_cb))\n",
        "\n",
        "# make predictions for test data\n",
        "y_pred_cb = cb_clf.predict(X_val_sc)\n",
        "predictions = [round(value) for value in y_pred_cb]\n",
        "\n",
        "print('Test Accuracy %.3f' % metrics.accuracy_score(y_val, predictions))\n",
        "print(metrics.confusion_matrix(y_val, predictions))\n",
        "print(metrics.classification_report(y_val, predictions))\n",
        "print('Precision Score %.3f' % metrics.precision_score(y_val, predictions))\n",
        "print('Recall Score %.3f' % metrics.recall_score(y_val, predictions))\n",
        "print('F1 Score %.3f' % metrics.f1_score(y_val, predictions))"
      ],
      "execution_count": null,
      "outputs": [
        {
          "output_type": "stream",
          "text": [
            "Train Accuracy 1.000\n",
            "Test Accuracy 1.000\n",
            "[[5351    0]\n",
            " [   2 5349]]\n",
            "              precision    recall  f1-score   support\n",
            "\n",
            "           0       1.00      1.00      1.00      5351\n",
            "           1       1.00      1.00      1.00      5351\n",
            "\n",
            "    accuracy                           1.00     10702\n",
            "   macro avg       1.00      1.00      1.00     10702\n",
            "weighted avg       1.00      1.00      1.00     10702\n",
            "\n",
            "Precision Score 1.000\n",
            "Recall Score 1.000\n",
            "F1 Score 1.000\n"
          ],
          "name": "stdout"
        }
      ]
    },
    {
      "cell_type": "code",
      "metadata": {
        "id": "BCC1oKbc_W6I",
        "colab_type": "code",
        "colab": {}
      },
      "source": [
        "predict_test_cb = cb_clf.predict(X_test_sc)\n",
        "submission_df = pd.DataFrame({'INCIDENT_ID':test_ids, 'MULTIPLE_OFFENSE':predict_test_cb})\n",
        "submission_df.to_csv(dataSetPath + '/sample_submission.csv', index=False)"
      ],
      "execution_count": null,
      "outputs": []
    },
    {
      "cell_type": "markdown",
      "metadata": {
        "id": "Srb-0BolBw33",
        "colab_type": "text"
      },
      "source": [
        "With above cat boost model got 99.41026 score on leader board"
      ]
    },
    {
      "cell_type": "code",
      "metadata": {
        "id": "JGwT_x3pBwgr",
        "colab_type": "code",
        "colab": {}
      },
      "source": [
        ""
      ],
      "execution_count": null,
      "outputs": []
    },
    {
      "cell_type": "code",
      "metadata": {
        "id": "tRR_eJuSqT-l",
        "colab_type": "code",
        "colab": {}
      },
      "source": [
        ""
      ],
      "execution_count": null,
      "outputs": []
    },
    {
      "cell_type": "code",
      "metadata": {
        "id": "u1tItm5WqT65",
        "colab_type": "code",
        "colab": {
          "base_uri": "https://localhost:8080/",
          "height": 102
        },
        "outputId": "2f1bc5ec-16e8-47df-90e1-89ec916f9d6a"
      },
      "source": [
        "from sklearn import model_selection\n",
        "from sklearn.ensemble import RandomForestClassifier\n",
        "from mlxtend.classifier import StackingCVClassifier\n",
        "from sklearn.ensemble import VotingClassifier\n",
        "\n",
        "import warnings\n",
        "\n",
        "warnings.simplefilter('ignore')\n",
        "\n",
        "RANDOM_SEED = 42\n",
        "\n",
        "clf1 = XGBClassifier(n_estimators=1000, scale_pos_weight = 2.5, silent=True)\n",
        "\n",
        "clf2 = CatBoostClassifier(silent=True, learning_rate=0.1, n_estimators=1000, scale_pos_weight=2.5)\n",
        "                                                                                           \n",
        "clf3 = LGBMClassifier(objective =\"binary\",verbosity = -1, learning_rate=0.1, n_estimators=1000, scale_pos_weight=2.5)\n",
        "\n",
        "clf4 = GradientBoostingClassifier(min_samples_split= 4, max_depth=5, n_estimators=1000, subsample=0.70)\n",
        " \n",
        "lr = RandomForestClassifier(n_estimators=1000, criterion='entropy', n_jobs=-1)\n",
        "\n",
        "sclf = StackingCVClassifier(classifiers=[clf1, clf2, clf3, clf4], meta_classifier=lr)\n",
        "\n",
        "for clf, label in zip([clf1, clf2, clf3, clf4, sclf], \n",
        "                      ['XGBClassifier', \n",
        "                       'CatBoostClassifier', \n",
        "                       'LGBMClassifier',\n",
        "                       'GradientBoostingClassifier',\n",
        "                       'StackingCVClassifier']):\n",
        "\n",
        "    scores = model_selection.cross_val_score(clf, X_train, y_train, cv=3, scoring='accuracy')\n",
        "    print(\"Accuracy: %0.2f (+/- %0.2f) [%s]\" % (scores.mean(), scores.std(), label))\n",
        "\n",
        "# Fit on train data / predict on test data\n",
        "sclf_fit = sclf.fit(X_train, y_train)\n",
        "y_pred_st = sclf.predict(X_val)"
      ],
      "execution_count": null,
      "outputs": [
        {
          "output_type": "stream",
          "text": [
            "Accuracy: 1.00 (+/- 0.00) [XGBClassifier]\n",
            "Accuracy: 1.00 (+/- 0.00) [CatBoostClassifier]\n",
            "Accuracy: 1.00 (+/- 0.00) [LGBMClassifier]\n",
            "Accuracy: 1.00 (+/- 0.00) [GradientBoostingClassifier]\n",
            "Accuracy: 1.00 (+/- 0.00) [StackingCVClassifier]\n"
          ],
          "name": "stdout"
        }
      ]
    },
    {
      "cell_type": "code",
      "metadata": {
        "id": "fPB3oZCNqT5Z",
        "colab_type": "code",
        "colab": {
          "base_uri": "https://localhost:8080/",
          "height": 272
        },
        "outputId": "7e41e0c6-0c6e-4a78-c441-c6bf85801986"
      },
      "source": [
        "print('Test Accuracy %.3f' % metrics.accuracy_score(y_val, y_pred_st))\n",
        "print(metrics.confusion_matrix(y_val, y_pred_st))\n",
        "print(metrics.classification_report(y_val, y_pred_st))\n",
        "print('Precision Score %.3f' % metrics.precision_score(y_val, y_pred_st))\n",
        "print('Recall Score %.3f' % metrics.recall_score(y_val, y_pred_st))\n",
        "print('F1 Score %.3f' % metrics.f1_score(y_val, y_pred_st))"
      ],
      "execution_count": null,
      "outputs": [
        {
          "output_type": "stream",
          "text": [
            "Test Accuracy 1.000\n",
            "[[5351    0]\n",
            " [   2 5349]]\n",
            "              precision    recall  f1-score   support\n",
            "\n",
            "           0       1.00      1.00      1.00      5351\n",
            "           1       1.00      1.00      1.00      5351\n",
            "\n",
            "    accuracy                           1.00     10702\n",
            "   macro avg       1.00      1.00      1.00     10702\n",
            "weighted avg       1.00      1.00      1.00     10702\n",
            "\n",
            "Precision Score 1.000\n",
            "Recall Score 1.000\n",
            "F1 Score 1.000\n"
          ],
          "name": "stdout"
        }
      ]
    },
    {
      "cell_type": "code",
      "metadata": {
        "id": "FoiTGFJCI9pO",
        "colab_type": "code",
        "colab": {}
      },
      "source": [
        "predict_test_stack = sclf.predict(X_test_sc)\n",
        "submission_df = pd.DataFrame({'INCIDENT_ID':test_ids, 'MULTIPLE_OFFENSE':predict_test_stack})\n",
        "submission_df.to_csv(dataSetPath + '/sample_submission.csv', index=False)"
      ],
      "execution_count": null,
      "outputs": []
    },
    {
      "cell_type": "markdown",
      "metadata": {
        "id": "XDiNnVshJYJc",
        "colab_type": "text"
      },
      "source": [
        "Worst performance of 50.23 recall score"
      ]
    },
    {
      "cell_type": "code",
      "metadata": {
        "id": "LLOMCGN6I9lH",
        "colab_type": "code",
        "colab": {}
      },
      "source": [
        ""
      ],
      "execution_count": null,
      "outputs": []
    },
    {
      "cell_type": "code",
      "metadata": {
        "id": "JOoJXHPOC7Lk",
        "colab_type": "code",
        "colab": {}
      },
      "source": [
        ""
      ],
      "execution_count": null,
      "outputs": []
    },
    {
      "cell_type": "code",
      "metadata": {
        "id": "gNFRFMnxC7JB",
        "colab_type": "code",
        "colab": {
          "base_uri": "https://localhost:8080/",
          "height": 306
        },
        "outputId": "1b6f50f0-204c-459e-9358-933e9c4b5bf9"
      },
      "source": [
        "# lets implement voting classifier and see how much the recall improves\n",
        "\n",
        "clf1 = XGBClassifier(n_estimators=900, scale_pos_weight = 2.5, silent=True)\n",
        "\n",
        "clf2 = CatBoostClassifier(silent=True, learning_rate=0.1, n_estimators=900, scale_pos_weight=2.5)\n",
        "\n",
        "clfVC   = VotingClassifier(estimators=[('XGB', clf1),('CBC', clf2)],  voting='hard')\n",
        "\n",
        "scores = model_selection.cross_val_score(clfVC, X_train_sc, y_train, cv=5, scoring='accuracy')\n",
        "print(\"Accuracy: %0.2f (+/- %0.2f) \" % (scores.mean(), scores.std() ))\n",
        "\n",
        "clfVC.fit(X_train_sc, y_train)\n",
        "\n",
        "# evaluate predictions\n",
        "y_train_predict_vot = clfVC.predict(X_train_sc)\n",
        "print('Train Accuracy %.3f' % metrics.accuracy_score(y_train, y_train_predict_vot))\n",
        "\n",
        "# make predictions for test data\n",
        "y_pred_clfVC = clfVC.predict(X_val_sc)\n",
        "predictions = [round(value) for value in y_pred_clfVC]\n",
        "\n",
        "print('Test Accuracy %.3f' % metrics.accuracy_score(y_val, predictions))\n",
        "print(metrics.confusion_matrix(y_val, predictions))\n",
        "print(metrics.classification_report(y_val, predictions))\n",
        "print('Precision Score %.3f' % metrics.precision_score(y_val, predictions))\n",
        "print('Recall Score %.3f' % metrics.recall_score(y_val, predictions))\n",
        "print('F1 Score %.3f' % metrics.f1_score(y_val, predictions))\n"
      ],
      "execution_count": null,
      "outputs": [
        {
          "output_type": "stream",
          "text": [
            "Accuracy: 1.00 (+/- 0.00) \n",
            "Train Accuracy 1.000\n",
            "Test Accuracy 1.000\n",
            "[[5351    0]\n",
            " [   2 5349]]\n",
            "              precision    recall  f1-score   support\n",
            "\n",
            "           0       1.00      1.00      1.00      5351\n",
            "           1       1.00      1.00      1.00      5351\n",
            "\n",
            "    accuracy                           1.00     10702\n",
            "   macro avg       1.00      1.00      1.00     10702\n",
            "weighted avg       1.00      1.00      1.00     10702\n",
            "\n",
            "Precision Score 1.000\n",
            "Recall Score 1.000\n",
            "F1 Score 1.000\n"
          ],
          "name": "stdout"
        }
      ]
    },
    {
      "cell_type": "code",
      "metadata": {
        "id": "a2RjLRtfqT1m",
        "colab_type": "code",
        "colab": {}
      },
      "source": [
        "predict_test_stack = clfVC.predict(X_test_sc)\n",
        "submission_df = pd.DataFrame({'INCIDENT_ID':test_ids, 'MULTIPLE_OFFENSE':predict_test_stack})\n",
        "submission_df.to_csv(dataSetPath + '/sample_submission.csv', index=False)"
      ],
      "execution_count": null,
      "outputs": []
    },
    {
      "cell_type": "markdown",
      "metadata": {
        "id": "vyDB-hdHoJ6f",
        "colab_type": "text"
      },
      "source": [
        "Score approached 99.68"
      ]
    },
    {
      "cell_type": "code",
      "metadata": {
        "id": "-F0-zSYiqTzj",
        "colab_type": "code",
        "colab": {}
      },
      "source": [
        ""
      ],
      "execution_count": null,
      "outputs": []
    },
    {
      "cell_type": "code",
      "metadata": {
        "id": "Sv2aaWEoqTwb",
        "colab_type": "code",
        "colab": {}
      },
      "source": [
        ""
      ],
      "execution_count": null,
      "outputs": []
    }
  ]
}